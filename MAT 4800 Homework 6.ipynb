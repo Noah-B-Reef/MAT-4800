{
 "cells": [
  {
   "cell_type": "code",
   "execution_count": 36,
   "metadata": {},
   "outputs": [],
   "source": [
    "using Printf\n",
    "using Plots\n",
    "using LaTeXStrings"
   ]
  },
  {
   "cell_type": "code",
   "execution_count": 37,
   "metadata": {},
   "outputs": [
    {
     "data": {
      "text/plain": [
       "0.0"
      ]
     },
     "metadata": {},
     "output_type": "display_data"
    }
   ],
   "source": [
    "tan(pi)"
   ]
  },
  {
   "cell_type": "code",
   "execution_count": 38,
   "metadata": {},
   "outputs": [
    {
     "data": {
      "text/plain": [
       "1-element Vector{Float64}:\n",
       " 2.5132741228718345"
      ]
     },
     "metadata": {},
     "output_type": "display_data"
    }
   ],
   "source": [
    "g(x) = tan.(x)\n",
    "g′(x) =sec.(x)^2\n",
    "x_k = [pi*0.8]"
   ]
  },
  {
   "cell_type": "code",
   "execution_count": 39,
   "metadata": {},
   "outputs": [
    {
     "name": "stdout",
     "output_type": "stream",
     "text": [
      "x_0 = 2.5132741228718345\n",
      "x_1 = 2.9888023810194113\n",
      "x_2 = 3.1392258189130109\n",
      "x_3 = 3.1415926447506122\n",
      "x_4 = 3.1415926535897931\n",
      "x_5 = 3.1415926535897931\n",
      "x_6 = 3.1415926535897931\n",
      "x_7 = 3.1415926535897931\n",
      "x_8 = 3.1415926535897931\n",
      "x_9 = 3.1415926535897931\n",
      "x_10 = 3.1415926535897931\n"
     ]
    }
   ],
   "source": [
    "for i = 1:10\n",
    "    append!(x_k,[x_k[i] - g(x_k[i])/g′(x_k[i])])\n",
    "    @printf(\"x_%d = %.16f\\n\", i-1, x_k[i])\n",
    "end\n",
    "@printf(\"x_%d = %.16f\\n\", length(x_k)-1, x_k[length(x_k)])\n"
   ]
  },
  {
   "cell_type": "code",
   "execution_count": 40,
   "metadata": {},
   "outputs": [
    {
     "data": {
      "text/plain": [
       "11-element Vector{Float64}:\n",
       " 0.5132741228718345\n",
       " 0.9888023810194113\n",
       " 1.139225818913011\n",
       " 1.1415926447506122\n",
       " 1.1415926535897931\n",
       " 1.1415926535897931\n",
       " 1.1415926535897931\n",
       " 1.1415926535897931\n",
       " 1.1415926535897931\n",
       " 1.1415926535897931\n",
       " 1.1415926535897931"
      ]
     },
     "metadata": {},
     "output_type": "display_data"
    }
   ],
   "source": [
    "error = abs.(x_k .- 2.0)\n",
    "display(error)"
   ]
  },
  {
   "cell_type": "code",
   "execution_count": 41,
   "metadata": {},
   "outputs": [
    {
     "data": {
      "text/plain": [
       "\"/Users/nreef/Desktop/question#7.png\""
      ]
     },
     "metadata": {},
     "output_type": "display_data"
    }
   ],
   "source": [
    "plot([0.0,1.0,2.0,3.0,4.0,5.0,6.0,7.0,8.0,9.0,10.0],x_k, label=L\"$x_k$\")\n",
    "x = range(0,10,length=100)\n",
    "plot!(x,(8^(1/3))*ones(100), label=L\"$8^{1/3}$\", linestyle=:dash)\n",
    "xlabel!(L\"$k$\")\n",
    "ylabel!(L\"$x^{(k)}$\")\n",
    "savefig(\"/Users/nreef/Desktop/question#7.png\") \n"
   ]
  }
 ],
 "metadata": {
  "kernelspec": {
   "display_name": "Julia 1.8.5",
   "language": "julia",
   "name": "julia-1.8"
  },
  "language_info": {
   "file_extension": ".jl",
   "mimetype": "application/julia",
   "name": "julia",
   "version": "1.8.5"
  },
  "orig_nbformat": 4
 },
 "nbformat": 4,
 "nbformat_minor": 2
}
